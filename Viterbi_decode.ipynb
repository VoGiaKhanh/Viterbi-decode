{
  "nbformat": 4,
  "nbformat_minor": 0,
  "metadata": {
    "colab": {
      "provenance": []
    },
    "kernelspec": {
      "name": "python3",
      "display_name": "Python 3"
    },
    "language_info": {
      "name": "python"
    }
  },
  "cells": [
    {
      "cell_type": "code",
      "source": [
        "import numpy as np\n",
        "\n",
        "# Define the convolutional code's generator matrix\n",
        "G = np.array([[1, 1, 1, 0],\n",
        "              [0, 1, 1, 1]])\n",
        "\n",
        "# Define the convolutional code's trellis diagram\n",
        "trellis = {0: [(0, 0), (1, 1)],\n",
        "           1: [(1, 0), (0, 1)]}\n",
        "\n",
        "# Define the received bit sequence\n",
        "r = [1, 1, 0, 1, 0, 1, 0, 0, 1, 1, 0, 0, 0, 1, 0, 1, 0, 1, 1, 1, 0, 1, 1, 0, 0, 1, 0, 1, 0, 0, 1, 0, 1, 1, 0, 1, 1, 1, 1, 0, 1, 1]\n",
        "\n",
        "# Code snippet from the Viterbi decoding implementation\n",
        "# Define the path metric initialization\n",
        "paths = [{0: ([], 0), 1: ([], float('inf'))}]\n",
        "\n",
        "# Iterate through the received bits\n",
        "for i, bit in enumerate(r):\n",
        "    # Initialize the new paths dictionary\n",
        "    new_paths = {}\n",
        "\n",
        "    # Iterate through the previous paths\n",
        "    for state, (prev_path, prev_metric) in paths[i].items():\n",
        "        # Iterate through the possible transitions from the current state\n",
        "        for transition in trellis[state]:\n",
        "            next_state, output = transition\n",
        "\n",
        "      # Calculate the Hamming distance between the received bit and the output\n",
        "            metric = prev_metric + (bit ^ output)\n",
        "\n",
        "          # Update the path with the minimum metric\n",
        "            if next_state not in new_paths or metric < new_paths[next_state][1]:\n",
        "                new_paths[next_state] = (prev_path + [output], metric)\n",
        "\n",
        "    # Add the new paths to the paths dictionary\n",
        "    paths.append(new_paths)\n",
        "\n",
        "# Find the path with the minimum metric at the final state\n",
        "final_state = min(paths[-1], key=lambda state: paths[-1][state][1])\n",
        "decoded_bits = paths[-1][final_state][0]\n",
        "\n",
        "# Output the decoded message\n",
        "print(\"Decoded bits:\", decoded_bits)\n"
      ],
      "metadata": {
        "colab": {
          "base_uri": "https://localhost:8080/"
        },
        "id": "ynX202dUFhc5",
        "outputId": "462d8057-f4da-4b72-c2db-6f46cd42d22e"
      },
      "execution_count": null,
      "outputs": [
        {
          "output_type": "stream",
          "name": "stdout",
          "text": [
            "Decoded bits: [1, 1, 0, 1, 0, 1, 0, 0, 1, 1, 0, 0, 0, 1, 0, 1, 0, 1, 1, 1, 0, 1, 1, 0, 0, 1, 0, 1, 0, 0, 1, 0, 1, 1, 0, 1, 1, 1, 1, 0, 1, 1]\n"
          ]
        }
      ]
    }
  ]
}